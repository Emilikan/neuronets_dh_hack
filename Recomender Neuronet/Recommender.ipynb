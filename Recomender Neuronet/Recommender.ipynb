{
 "cells": [
  {
   "cell_type": "markdown",
   "metadata": {
    "collapsed": true
   },
   "source": [
    "# Recommender Systems & Collaborative Filtering\n",
    "--------\n",
    "## Contents\n",
    "---------\n",
    "\n",
    "__[1. Introduction](#first-bullet)__\n",
    "\n",
    "__[2. Preprocessing & Basic Statistics](#second-bullet)__\n",
    "\n",
    "__[3. User-User Collaborative Filtering](#third-bullet)__\n",
    "\n",
    "__[4. Next Steps](#fourth-bullet)__\n",
    "\n",
    "\n",
    "--------\n",
    "## Introduction <a class=\"anchor\" id=\"first-bullet\"></a>\n",
    "---------\n",
    "\n",
    "Recommender systems are one of the most important applications of data science across the consumer-facing technology industry.  They are used almost everywhere; examples are 'Amazon’s Recommended Items', Internet Radio stations, and suggested videos on Netflix.  There are two general approaches to recommender systems:\n",
    "\n",
    "1. <a href=\"https://en.wikipedia.org/wiki/Collaborative_filtering\">Collaborative filtering</a>\n",
    "\n",
    "2. <a href=\"https://en.wikipedia.org/wiki/Recommender_system#Content-based_filtering\">Content-based filtering</a>\n",
    "\n",
    "Collaborative filtering is a method of recommending products to customers by using their past behaviors or product ratings, as well as similar decisions by other customers to predict which items might be appealing to the original customers. Content-based filtering suggests products to customers by using the characteristics of an item they have selected in the past in order to recommend additional items with similar properties.  There are advantages and disadvantages to both of these methods.  \n",
    "\n",
    "Collaborative filtering suffers from the cold start problem, meaning it requires a certain threshold of user input in order to make any recommendations. Content-based filtering, on the other hand, only requires one data point--for example, one item that a specific user has purchased--in order to produce suggestions. However, content-based filtering is limited in scope and in the relevance of its results, since it can only recommend products that are similar to the original product selected. Collaborative filtering can overcome this limitation by suggesting products not necessarily similar to previous products that user has selected, but that similar users have found appealing. Because of this ability to accurately recommend complex items without needing to understand the qualities of the items themselves, collaborative filtering is the more widely used method, and thus the focus of this blog post. Collaborative filtering is also much more popular for web-based recommendations where the data is sparse, i.e., where there is a limited number of reviews by each user or for a particular product.\n",
    "\n",
    "---------\n",
    "## Collaborative Filtering\n",
    "---------\n",
    "\n",
    "As mentioned previously, in collaborative filtering we do not need to know much about the products or the customers.  We just need to know need to know how many unique products and customers there as well as how the customers rated the products.  This information is stored in a user-item table, where the ratings are the entries in the table. An example of a user-item table can be seen below,\n",
    "\n",
    "![table](images/table.jpg)\n",
    "\n",
    "\n",
    "The ratings matrix is another representation of the user-item table where each user and item have been assigned an unique integer value. The general rating matrix $\\textbf{R}$ is in $ R^{n_{u} \\times n_{i}}$ where $n_{u}$ is the number of users and $n_{i}$ is the number of items.  Let $R_{i,j}$ entry correspoing to the $i$-th row and $j$-th column of the matrix $\\textbf{R}$. $R_{i,j}$ is then the rating by user $i$ on item $j$.  The entries that have missing values in the matrix will be filled in with 0's.\n",
    "\n",
    "In collaborative filtering we typically focus on two tasks. The first is,\n",
    "\n",
    "**1.) Given a user and an item, what is the user’s likely preference for the item? **\n",
    "\n",
    "This can also be viewed as filling in the missing values in the table above.  The second task is,\n",
    "\n",
    "**2.) Recommend a list of $n$ items for a user based off of information we can obtain from the user-item table.  **\n",
    "\n",
    "Within collaborative filtering there are two different modeling perspectives to answering the first question: \n",
    "\n",
    "-  **Memory based**: This approach uses customer rating data to compute the similarity between customers or items and make recommendations. This was an early approach used in many commercial systems and has the benefit of being easy to explain. However, it doesnt scale well with sparse data as we will discuss later.  \n",
    "\n",
    "\n",
    "-  **Model based**: This approach to collaborative filtering scales much better with sparse data and can uncover hidden or latent features in our dataset.  One draw back to this method is that it can be hard to explain/justitfy the predictions.   \n",
    "\n",
    "In this blog post I'll talk I'll go user-user collaborative filtering to predict how a given user will rate an item for now and look into other methods later on. Let's jump into the code...\n",
    "\n",
    "---------\n",
    "## Preprocessing & Basic Statistics <a class=\"anchor\" id=\"second-bullet\"></a>\n",
    "---------\n",
    "First let's load some of the basic libraries,"
   ]
  },
  {
   "cell_type": "code",
   "execution_count": 2,
   "metadata": {},
   "outputs": [],
   "source": [
    "import pandas as pd\n",
    "import numpy as np\n",
    "from scipy.sparse import csc_matrix\n",
    "import seaborn as sns\n",
    "import matplotlib.pyplot as plt\n",
    "%matplotlib inline"
   ]
  },
  {
   "cell_type": "code",
   "execution_count": 2,
   "metadata": {},
   "outputs": [
    {
     "name": "stdout",
     "output_type": "stream",
     "text": [
      "\u001b[33mThe directory '/home/ec2-user/.cache/pip/http' or its parent directory is not owned by the current user and the cache has been disabled. Please check the permissions and owner of that directory. If executing pip with sudo, you may want sudo's -H flag.\u001b[0m\n",
      "\u001b[33mThe directory '/home/ec2-user/.cache/pip' or its parent directory is not owned by the current user and caching wheels has been disabled. check the permissions and owner of that directory. If executing pip with sudo, you may want sudo's -H flag.\u001b[0m\n",
      "Requirement already satisfied: pandas in /home/ec2-user/anaconda3/lib/python3.7/site-packages (from -r requirements.txt (line 1)) (0.24.2)\n",
      "Requirement already satisfied: numpy in /home/ec2-user/anaconda3/lib/python3.7/site-packages (from -r requirements.txt (line 2)) (1.17.4)\n",
      "Requirement already satisfied: scipy in /home/ec2-user/anaconda3/lib/python3.7/site-packages (from -r requirements.txt (line 3)) (1.2.1)\n",
      "Requirement already satisfied: matplotlib in /home/ec2-user/anaconda3/lib/python3.7/site-packages (from -r requirements.txt (line 4)) (3.0.3)\n",
      "Requirement already satisfied: seaborn in /home/ec2-user/anaconda3/lib/python3.7/site-packages (from -r requirements.txt (line 5)) (0.9.0)\n",
      "Requirement already satisfied: sklearn in /home/ec2-user/anaconda3/lib/python3.7/site-packages (from -r requirements.txt (line 6)) (0.0)\n",
      "Requirement already satisfied: python-dateutil>=2.5.0 in /home/ec2-user/anaconda3/lib/python3.7/site-packages (from pandas->-r requirements.txt (line 1)) (2.8.0)\n",
      "Requirement already satisfied: pytz>=2011k in /home/ec2-user/anaconda3/lib/python3.7/site-packages (from pandas->-r requirements.txt (line 1)) (2018.9)\n",
      "Requirement already satisfied: cycler>=0.10 in /home/ec2-user/anaconda3/lib/python3.7/site-packages (from matplotlib->-r requirements.txt (line 4)) (0.10.0)\n",
      "Requirement already satisfied: kiwisolver>=1.0.1 in /home/ec2-user/anaconda3/lib/python3.7/site-packages (from matplotlib->-r requirements.txt (line 4)) (1.0.1)\n",
      "Requirement already satisfied: pyparsing!=2.0.4,!=2.1.2,!=2.1.6,>=2.0.1 in /home/ec2-user/anaconda3/lib/python3.7/site-packages (from matplotlib->-r requirements.txt (line 4)) (2.3.1)\n",
      "Requirement already satisfied: scikit-learn in /home/ec2-user/anaconda3/lib/python3.7/site-packages (from sklearn->-r requirements.txt (line 6)) (0.20.3)\n",
      "Requirement already satisfied: six>=1.5 in /home/ec2-user/anaconda3/lib/python3.7/site-packages (from python-dateutil>=2.5.0->pandas->-r requirements.txt (line 1)) (1.13.0)\n",
      "Requirement already satisfied: setuptools in /home/ec2-user/anaconda3/lib/python3.7/site-packages (from kiwisolver>=1.0.1->matplotlib->-r requirements.txt (line 4)) (41.6.0)\n"
     ]
    }
   ],
   "source": [
    "!pip install -r requirements.txt "
   ]
  },
  {
   "cell_type": "markdown",
   "metadata": {},
   "source": [
    "The data we will use comes from <a href=\"https:amazon.com\">Amazon</a> and can be found <a href=\"http://jmcauley.ucsd.edu/data/amazon/\">here</a>.  I chose the Amazon Instant Video 5 core file. The 5 core implies that each video/item has atleast 5 ratings and each users has rated atleast 5 videos/items.  Unzipping the file results in a json file that I was not  able to read using the Pandas <a href=\"http://pandas.pydata.org/pandas-docs/stable/generated/pandas.read_json.html\">read_json</a> function. So I read in the contents of the file using the function below:"
   ]
  },
  {
   "cell_type": "code",
   "execution_count": null,
   "metadata": {},
   "outputs": [],
   "source": []
  },
  {
   "cell_type": "code",
   "execution_count": null,
   "metadata": {},
   "outputs": [],
   "source": []
  },
  {
   "cell_type": "code",
   "execution_count": null,
   "metadata": {},
   "outputs": [],
   "source": []
  },
  {
   "cell_type": "code",
   "execution_count": 3,
   "metadata": {
    "scrolled": false
   },
   "outputs": [],
   "source": [
    "from readFunctions import openFile\n",
    "#df = openFile('reviews_Books_5.json.gz')\n",
    "df = pd.read_csv('reviews.csv')\n",
    "# import ijson\n",
    "# filename = \"reviews_Books_5.json\"\n",
    "# with open(filename, 'r') as f:\n",
    "#     lists = list()\n",
    "#     g=0\n",
    "#     for i in f:\n",
    "#         if g == 0:\n",
    "#             for el in i:\n",
    "#                 del el['helpful']\n",
    "#             print(i)\n",
    "#             g+=1\n",
    "#             df = pd.read_json(i)\n",
    "#     print(df)\n",
    "        \n",
    "\n",
    "\n",
    "    "
   ]
  },
  {
   "cell_type": "markdown",
   "metadata": {},
   "source": [
    "We can get the basic info on the dataset, including the number of reviews and the column descriptions using the Pandas <a href=\"http://pandas.pydata.org/pandas-docs/stable/generated/pandas.DataFrame.info.html\">info</a> function,"
   ]
  },
  {
   "cell_type": "code",
   "execution_count": 4,
   "metadata": {},
   "outputs": [
    {
     "name": "stdout",
     "output_type": "stream",
     "text": [
      "<class 'pandas.core.frame.DataFrame'>\n",
      "RangeIndex: 8898041 entries, 0 to 8898040\n",
      "Data columns (total 10 columns):\n",
      "Unnamed: 0        int64\n",
      "reviewerID        object\n",
      "asin              object\n",
      "reviewerName      object\n",
      "helpful           object\n",
      "reviewText        object\n",
      "overall           float64\n",
      "summary           object\n",
      "unixReviewTime    int64\n",
      "reviewTime        object\n",
      "dtypes: float64(1), int64(2), object(7)\n",
      "memory usage: 678.9+ MB\n"
     ]
    }
   ],
   "source": [
    "df.info()"
   ]
  },
  {
   "cell_type": "markdown",
   "metadata": {},
   "source": [
    "Мы также можем взглянуть на данные, посмотрев на первые несколько строк,"
   ]
  },
  {
   "cell_type": "code",
   "execution_count": 5,
   "metadata": {},
   "outputs": [
    {
     "data": {
      "text/html": [
       "<div>\n",
       "<style scoped>\n",
       "    .dataframe tbody tr th:only-of-type {\n",
       "        vertical-align: middle;\n",
       "    }\n",
       "\n",
       "    .dataframe tbody tr th {\n",
       "        vertical-align: top;\n",
       "    }\n",
       "\n",
       "    .dataframe thead th {\n",
       "        text-align: right;\n",
       "    }\n",
       "</style>\n",
       "<table border=\"1\" class=\"dataframe\">\n",
       "  <thead>\n",
       "    <tr style=\"text-align: right;\">\n",
       "      <th></th>\n",
       "      <th>Unnamed: 0</th>\n",
       "      <th>reviewerID</th>\n",
       "      <th>asin</th>\n",
       "      <th>reviewerName</th>\n",
       "      <th>helpful</th>\n",
       "      <th>reviewText</th>\n",
       "      <th>overall</th>\n",
       "      <th>summary</th>\n",
       "      <th>unixReviewTime</th>\n",
       "      <th>reviewTime</th>\n",
       "    </tr>\n",
       "  </thead>\n",
       "  <tbody>\n",
       "    <tr>\n",
       "      <th>0</th>\n",
       "      <td>0</td>\n",
       "      <td>A10000012B7CGYKOMPQ4L</td>\n",
       "      <td>000100039X</td>\n",
       "      <td>Adam</td>\n",
       "      <td>[0, 0]</td>\n",
       "      <td>Spiritually and mentally inspiring! A book tha...</td>\n",
       "      <td>5.0</td>\n",
       "      <td>Wonderful!</td>\n",
       "      <td>1355616000</td>\n",
       "      <td>12 16, 2012</td>\n",
       "    </tr>\n",
       "    <tr>\n",
       "      <th>1</th>\n",
       "      <td>1</td>\n",
       "      <td>A2S166WSCFIFP5</td>\n",
       "      <td>000100039X</td>\n",
       "      <td>adead_poet@hotmail.com \"adead_poet@hotmail.com\"</td>\n",
       "      <td>[0, 2]</td>\n",
       "      <td>This is one my must have books. It is a master...</td>\n",
       "      <td>5.0</td>\n",
       "      <td>close to god</td>\n",
       "      <td>1071100800</td>\n",
       "      <td>12 11, 2003</td>\n",
       "    </tr>\n",
       "  </tbody>\n",
       "</table>\n",
       "</div>"
      ],
      "text/plain": [
       "   Unnamed: 0             reviewerID        asin  \\\n",
       "0           0  A10000012B7CGYKOMPQ4L  000100039X   \n",
       "1           1         A2S166WSCFIFP5  000100039X   \n",
       "\n",
       "                                      reviewerName helpful  \\\n",
       "0                                             Adam  [0, 0]   \n",
       "1  adead_poet@hotmail.com \"adead_poet@hotmail.com\"  [0, 2]   \n",
       "\n",
       "                                          reviewText  overall       summary  \\\n",
       "0  Spiritually and mentally inspiring! A book tha...      5.0    Wonderful!   \n",
       "1  This is one my must have books. It is a master...      5.0  close to god   \n",
       "\n",
       "   unixReviewTime   reviewTime  \n",
       "0      1355616000  12 16, 2012  \n",
       "1      1071100800  12 11, 2003  "
      ]
     },
     "execution_count": 5,
     "metadata": {},
     "output_type": "execute_result"
    }
   ],
   "source": [
    "df.head(2)"
   ]
  },
  {
   "cell_type": "markdown",
   "metadata": {},
   "source": [
    "Значение <code>asin</code> для каждого отзыва - это фактический идентификатор продукта или видео на Amazon. Если вы скопируете и вставите этот идентификатор/код в поиск на <a href=\"https://amazon.com\"> amazon.com </a>, появится список продуктов!\n",
    "\n",
    "Теперь давайте начнем с получения некоторой базовой статистики по рейтингам мгновенных видео Amazon в данных,"
   ]
  },
  {
   "cell_type": "code",
   "execution_count": 6,
   "metadata": {},
   "outputs": [
    {
     "name": "stdout",
     "output_type": "stream",
     "text": [
      "Mean rating : 4.2499322041784255\n",
      "Mean rating standard deviation: 1.0577327813620996\n"
     ]
    }
   ],
   "source": [
    "print(\"Mean rating : {}\".format(df['overall'].mean()))\n",
    "print(\"Mean rating standard deviation: {}\".format(df['overall'].std()))"
   ]
  },
  {
   "cell_type": "markdown",
   "metadata": {},
   "source": [
    "Средний рейтинг по всем видео составляет 4,2 из 5. Мы можем увидеть общее распределение отзывов ниже"
   ]
  },
  {
   "cell_type": "code",
   "execution_count": 7,
   "metadata": {},
   "outputs": [
    {
     "data": {
      "text/plain": [
       "Text(0, 0.5, 'count of reviews')"
      ]
     },
     "execution_count": 7,
     "metadata": {},
     "output_type": "execute_result"
    },
    {
     "data": {
      "image/png": "[encoded data removed]",
      "text/plain": [
       "<Figure size 432x288 with 1 Axes>"
      ]
     },
     "metadata": {
      "needs_background": "light"
     },
     "output_type": "display_data"
    }
   ],
   "source": [
    "fig = plt.figure(figsize=(6,4))\n",
    "ax  = fig.add_subplot(111)\n",
    "ax.hist(df['overall'], bins=[0.9, 1.1, 1.9, 2.1, 2.9, 3.1, 3.9, 4.1, 4.9, 5.1])\n",
    "ax.set_xlabel('Overall review', fontsize=13)\n",
    "ax.set_ylabel('count of reviews', fontsize=13)\n",
    "#ax.title('Distribution of reviews', fontsize=15)"
   ]
  },
  {
   "cell_type": "markdown",
   "metadata": {},
   "source": [
    "Мы также можем узнать количество рецензентов, посчитав уникальные значения <code>reviewerID</code> и продукта, посчитав уникальные значения <code>asin</code>:"
   ]
  },
  {
   "cell_type": "code",
   "execution_count": 8,
   "metadata": {},
   "outputs": [
    {
     "name": "stdout",
     "output_type": "stream",
     "text": [
      "Number of reviewers: 603668\n",
      "Number of products : 367982\n",
      "Number of ratings  : 8898041\n"
     ]
    }
   ],
   "source": [
    "num_users = len(df['reviewerID'].unique())\n",
    "num_items = len(df['asin'].unique())\n",
    "\n",
    "print(\"Number of reviewers: {}\".format(num_users))\n",
    "print(\"Number of products : {}\".format(num_items))\n",
    "print(\"Number of ratings  : {}\".format(len(df)))"
   ]
  },
  {
   "cell_type": "markdown",
   "metadata": {},
   "source": [
    "Мы также можем узнать среднее количество оценок на одного рецензента, используя <a href=\"http://pandas.pydata.org/pandas-docs/stable/generated/pandas.DataFrame.groupby.html\"> groupby </a> функция с <code>reviewerID</code> и подсчет количества отзывов о товаре,\n"
   ]
  },
  {
   "cell_type": "code",
   "execution_count": 9,
   "metadata": {},
   "outputs": [
    {
     "name": "stdout",
     "output_type": "stream",
     "text": [
      "Avg Number of ratings per reviewer 14.739958056415116\n"
     ]
    }
   ],
   "source": [
    "avg_num_reviews = df.groupby('reviewerID')['asin'].count()\n",
    "print(\"Avg Number of ratings per reviewer {}\".format(avg_num_reviews.mean()))"
   ]
  },
  {
   "cell_type": "markdown",
   "metadata": {},
   "source": [
    "Мы также можем получить распределение среднего рейтинга каждого рецензента,"
   ]
  },
  {
   "cell_type": "code",
   "execution_count": 10,
   "metadata": {},
   "outputs": [
    {
     "data": {
      "text/plain": [
       "Text(0, 0.5, 'number of reviewers')"
      ]
     },
     "execution_count": 10,
     "metadata": {},
     "output_type": "execute_result"
    },
    {
     "data": {
      "image/png": "[encoded data removed]",
      "text/plain": [
       "<Figure size 432x288 with 1 Axes>"
      ]
     },
     "metadata": {
      "needs_background": "light"
     },
     "output_type": "display_data"
    }
   ],
   "source": [
    "mean_rating_of_user = df.groupby('reviewerID').apply(lambda x: x['overall'].mean())\n",
    "\n",
    "fig = plt.figure(figsize=(6,4))\n",
    "ax  = fig.add_subplot(111)\n",
    "ax.hist(mean_rating_of_user)\n",
    "ax.set_xlabel('mean rating given by each reviewer', fontsize=13)\n",
    "ax.set_ylabel('number of reviewers', fontsize=13)"
   ]
  },
  {
   "cell_type": "markdown",
   "metadata": {},
   "source": [
    "We could keep exploring the data to get more insights, but one of the appealing aspects about collaborative filtering is that we don't actually have to know much about the products or customters' preferences in order to make recommedations. Instead, all we need to need is the user-item table or ratings matrix and this is what we will discuss next.\n",
    "\n",
    "Now we want to make a ratings matrix out of our DataFrame to represent the user-item table.  In order to do this we have to assign each video and reviewer an unique index that will correspond to a row and a column in the matrix respectively. We do this by turning each <a href=\"http://pandas.pydata.org/pandas-docs/stable/categorical.html\">categorical</a> data-types:"
   ]
  },
  {
   "cell_type": "code",
   "execution_count": 11,
   "metadata": {},
   "outputs": [],
   "source": [
    "# turn each reviewer and product into categorical data,\n",
    "df['reviewerID'] = df['reviewerID'].astype(\"category\")\n",
    "df['asin']       = df['asin'].astype(\"category\")"
   ]
  },
  {
   "cell_type": "markdown",
   "metadata": {},
   "source": [
    "We then create a matrix of all the videos/reviewer/ratings tripples for the training set.  We format the matrix such that each row is a unique item/video and each column is a unique reviewer.  The value of each matrix $R_{i,j}$ will then be the rating that a reviewer $j$ gave on video $i$:"
   ]
  },
  {
   "cell_type": "code",
   "execution_count": 12,
   "metadata": {},
   "outputs": [
    {
     "data": {
      "text/plain": [
       "(603668, 367982)"
      ]
     },
     "execution_count": 12,
     "metadata": {},
     "output_type": "execute_result"
    }
   ],
   "source": [
    "reviews = csc_matrix((df['overall'].astype(float), \n",
    "                     (df['reviewerID'].cat.codes,\n",
    "                      df['asin'].cat.codes)))\n",
    "reviews.shape"
   ]
  },
  {
   "cell_type": "markdown",
   "metadata": {},
   "source": [
    "Поскольку большинство рецензентов / клиентов оценивают только несколько видеороликов, в этой матрице будет много записей с пропущенными значениями и по умолчанию будет иметь значение 0. Поскольку будет так мало ненулевых значений, эта матрица будет довольно разреженной, и поэтому мы должны использовать разреженную матрицу для ее хранения. Разреженная матрица хранит только ненулевые записи и уменьшает использование памяти. Однако наши данные не так велики, и плотные матрицы могут быть немного легче работать, поэтому я преобразую эту матрицу в плотную:"
   ]
  },
  {
   "cell_type": "code",
   "execution_count": null,
   "metadata": {},
   "outputs": [],
   "source": [
    "ratings_matrix = reviews.toarray()"
   ]
  },
  {
   "cell_type": "markdown",
   "metadata": {},
   "source": [
    "Мы можем видеть разреженность этой матрицы:"
   ]
  },
  {
   "cell_type": "code",
   "execution_count": 14,
   "metadata": {},
   "outputs": [
    {
     "name": "stdout",
     "output_type": "stream",
     "text": [
      "Sparsity: 0.00%\n"
     ]
    }
   ],
   "source": [
    "sparsity = float(len(reviews.nonzero()[0]))\n",
    "sparsity /= (reviews.shape[0] * reviews.shape[1])\n",
    "sparsity *= 100\n",
    "print(\"Sparsity: {:4.2f}%\".format(sparsity))"
   ]
  },
  {
   "cell_type": "markdown",
   "metadata": {},
   "source": [
    "The main idea of collaborative filtering is we want to predict how each user will feel about a product, that is, to find the missing values in the matrix. One idea is to fill in the missing values with the mean rating of all users and on all products. The overall mean can be obtained by,"
   ]
  },
  {
   "cell_type": "code",
   "execution_count": 17,
   "metadata": {},
   "outputs": [],
   "source": [
    "mean_rating = df['overall'].mean()"
   ]
  },
  {
   "cell_type": "markdown",
   "metadata": {},
   "source": [
    "We can get then root mean square error in this prediction by computing by getting the non-zero rating values in the matrices using the above method and taking the square of the difference in these values from the <code>mean_rating</code>,"
   ]
  },
  {
   "cell_type": "code",
   "execution_count": 18,
   "metadata": {},
   "outputs": [
    {
     "name": "stdout",
     "output_type": "stream",
     "text": [
      "RMSE = 1.0577327219258252\n"
     ]
    }
   ],
   "source": [
    "base_rmse = np.sqrt(pow(df['overall']-mean_rating, 2).mean())\n",
    "print(\"RMSE = {}\".format(base_rmse))"
   ]
  },
  {
   "cell_type": "markdown",
   "metadata": {},
   "source": [
    "This is a pretty naive approach, but it will give us a baseline to compare the other methods we use.  Our goal will be to find collaborative filtering methods that result in smaller errors than above and we will start with user-user collaborative filtering."
   ]
  },
  {
   "cell_type": "markdown",
   "metadata": {},
   "source": [
    "--------\n",
    "##  User-User Collaborative Filtering <a class=\"anchor\" id=\"third-bullet\"></a>\n",
    "--------"
   ]
  },
  {
   "cell_type": "markdown",
   "metadata": {
    "collapsed": true
   },
   "source": [
    "The basic idea of user-user collaborative filtering is to predict a customer, $u$'s rating of a product, $i$, by finding customers that are similar to $u$ and use their rating of product $i$ to estimate how customer $u$ would rate it.  The way we measure how similar customers are is through a function called the <a href=\"https://en.wikipedia.org/wiki/Cosine_similarity\">cosine similarity</a> function.  The cosine similarity between user $u$ and user $v$ is the normalized dot product of their row vectors, ($\\textbf{r}_{u}$ and $\\textbf{r}_{v}$ respectively) in the rating matrix $\\textbf{R}$,\n",
    "\n",
    "$$ s(u,v) = \\frac{\\textbf{r}_{u} \\cdot \\textbf{r}_{v}}{ \\Vert \\textbf{r}_{u} \\Vert \\Vert \\textbf{r}_{v} \\Vert} $$\n",
    "\n",
    "As mentioned previously, unknown ratings are considered to be 0; this causes them to effectively drop out of the numerator. To generate predictions for user $u$ on product $i$ from the cosine similarity function we then use a weighted average of some set of similar users ($N$) and thoses customers ratings of product $i$, \n",
    "\n",
    "$$ p_{u,i} = \\bar{r}_{u} + \\frac{\\sum_{v \\in N} s(u,v) (R_{v,i} - \\bar{r}_{v})}{\\sum_{v \\in N} \\vert s(u,v) \\vert} $$\n",
    "\n",
    "$\\bar{r}_{v}$ is the mean rating of all customers on all products and  $\\bar{r}_{u}$ is the mean rating of user $u$ on all products.  \n",
    "\n",
    "In order to compute the cosine similarity function between users we import the <a href=\"http://scikit-learn.org/stable/modules/generated/sklearn.metrics.pairwise.cosine_similarity.html\">cosine_similarity</a> function from the <a href=\"http://scikit-learn.org/stable/\">scikit-learn</a> library:"
   ]
  },
  {
   "cell_type": "code",
   "execution_count": 19,
   "metadata": {},
   "outputs": [],
   "source": [
    "from sklearn.metrics.pairwise import cosine_similarity"
   ]
  },
  {
   "cell_type": "markdown",
   "metadata": {},
   "source": [
    "В итоге мы предварительно вычисляем все косинусные сходства между пользователями и формируем матрицу подобия в вызовах функций ниже. Первый пользовательский алгоритм совместной фильтрации приведен ниже. Сначала мы сравниваем сходство каждого пользователя со * всеми * другими пользователями и даем рекомендации. Обратите внимание, что мы не разбиваем наши данные на наборы для обучения и тестирования. Вместо этого мы перебираем всех пользователей и все продукты и рассматриваем каждый продукт для каждого пользователя как отсутствующее значение, а затем прогнозируем его значение. Затем мы получаем ошибку между прогнозируемым рейтингом и фактическим рейтингом.\n"
   ]
  },
  {
   "cell_type": "code",
   "execution_count": 20,
   "metadata": {},
   "outputs": [],
   "source": [
    "def User_User_CF(reviews):\n",
    "    \"\"\"\n",
    "    Obtains the RMSE error in the user-user collaborative \n",
    "    filtering algorithms using all the similar users.\n",
    "    \n",
    "    :param: reviews (numpy.ndarray) : The dense user-item matrix.\n",
    "    \n",
    "    :returns: RMSE of predictions\n",
    "    :rvalue: float\n",
    "    \"\"\"\n",
    "    \n",
    "    # Get the user-user similarity matrix\n",
    "    user_user_similarity = cosine_similarity(reviews)\n",
    "    \n",
    "    sqdiffs = 0\n",
    "    num_preds = 0\n",
    "\n",
    "    # to protect against divide by zero issues\n",
    "    eps = 1e-6\n",
    "\n",
    "    cnt_no_sims = 0\n",
    "    # loop over the users\n",
    "    for user_i, u in enumerate(reviews):\n",
    "        \n",
    "        # products user HAS rated\n",
    "        i_rated = np.where(u>0)[0]\n",
    "    \n",
    "        # Get the average rating for this user\n",
    "        user_avg =  i_rated.mean()\n",
    "        \n",
    "        # loop over all the products that each user reviewed\n",
    "        # Note: these are all the non-zero entries in the row\n",
    "        for i_product in i_rated:\n",
    "        \n",
    "            # Get all the users (indices) that\n",
    "            # have also reviewed this product.\n",
    "            # Note: This also includes the user of interest!\n",
    "            i_has_rated = np.where(reviews[:, i_product])[0]\n",
    "        \n",
    "            # remove the user (indices) of interest \n",
    "            # from this column\n",
    "            i_remove = np.argmin(abs(i_has_rated - user_i))\n",
    "            i_others_have_rated = np.delete(i_has_rated, i_remove)\n",
    "        \n",
    "            # Get the ratings for product by the similar users,\n",
    "            ratings = reviews[i_others_have_rated, \n",
    "                              i_product]\n",
    "                    \n",
    "            ratings -= user_avg\n",
    "               \n",
    "            # get the cosine similarity between the users\n",
    "            # and other users.\n",
    "            similarities = user_user_similarity[user_i,\n",
    "                                                i_others_have_rated]\n",
    "            \n",
    "            # denominator of user_i's produdct prediction\n",
    "            norm = np.sum(similarities)\n",
    "            if norm==0:\n",
    "                cnt_no_sims += 1\n",
    "                norm = eps\n",
    "            \n",
    "            # prediction of user u on product i: p_{u,i}\n",
    "            predicted_rating = user_avg + np.sum(np.multiply(\n",
    "                                            ratings.T,\n",
    "                                            similarities))/norm\n",
    "            \n",
    "            # actual rating by user u on product i\n",
    "            actual_rating = reviews[user_i, i_product]\n",
    "            \n",
    "        # get the L2 difference in predicted and actual\n",
    "        # rating for the user\n",
    "        sqdiffs += pow(predicted_rating - actual_rating, 2.0)\n",
    "        num_preds+=1\n",
    "    \n",
    "    # get the average of all the predictions\n",
    "    rmse_cossim = np.sqrt(sqdiffs/num_preds)\n",
    "    return rmse_cossim"
   ]
  },
  {
   "cell_type": "markdown",
   "metadata": {},
   "source": [
    "Давайте посмотрим, насколько хорошо алгоритм работает, вычисляя среднеквадратичное отклонение прогнозируемых пользовательских рейтингов"
   ]
  },
  {
   "cell_type": "code",
   "execution_count": 21,
   "metadata": {},
   "outputs": [
    {
     "ename": "ValueError",
     "evalue": "Expected 2D array, got scalar array instead:\narray=4.2499322041784255.\nReshape your data either using array.reshape(-1, 1) if your data has a single feature or array.reshape(1, -1) if it contains a single sample.",
     "output_type": "error",
     "traceback": [
      "\u001b[0;31m---------------------------------------------------------------------------\u001b[0m",
      "\u001b[0;31mValueError\u001b[0m                                Traceback (most recent call last)",
      "\u001b[0;32m<ipython-input-21-4be34258f1be>\u001b[0m in \u001b[0;36m<module>\u001b[0;34m\u001b[0m\n\u001b[0;32m----> 1\u001b[0;31m \u001b[0muser_all_rmse\u001b[0m \u001b[0;34m=\u001b[0m \u001b[0mUser_User_CF\u001b[0m\u001b[0;34m(\u001b[0m\u001b[0mreviews\u001b[0m\u001b[0;34m)\u001b[0m\u001b[0;34m\u001b[0m\u001b[0;34m\u001b[0m\u001b[0m\n\u001b[0m\u001b[1;32m      2\u001b[0m \u001b[0mprint\u001b[0m\u001b[0;34m(\u001b[0m\u001b[0muser_all_rmse\u001b[0m\u001b[0;34m)\u001b[0m\u001b[0;34m\u001b[0m\u001b[0;34m\u001b[0m\u001b[0m\n",
      "\u001b[0;32m<ipython-input-20-43ac2c1ebcff>\u001b[0m in \u001b[0;36mUser_User_CF\u001b[0;34m(reviews)\u001b[0m\n\u001b[1;32m     11\u001b[0m \u001b[0;34m\u001b[0m\u001b[0m\n\u001b[1;32m     12\u001b[0m     \u001b[0;31m# Get the user-user similarity matrix\u001b[0m\u001b[0;34m\u001b[0m\u001b[0;34m\u001b[0m\u001b[0;34m\u001b[0m\u001b[0m\n\u001b[0;32m---> 13\u001b[0;31m     \u001b[0muser_user_similarity\u001b[0m \u001b[0;34m=\u001b[0m \u001b[0mcosine_similarity\u001b[0m\u001b[0;34m(\u001b[0m\u001b[0mreviews\u001b[0m\u001b[0;34m)\u001b[0m\u001b[0;34m\u001b[0m\u001b[0;34m\u001b[0m\u001b[0m\n\u001b[0m\u001b[1;32m     14\u001b[0m \u001b[0;34m\u001b[0m\u001b[0m\n\u001b[1;32m     15\u001b[0m     \u001b[0msqdiffs\u001b[0m \u001b[0;34m=\u001b[0m \u001b[0;36m0\u001b[0m\u001b[0;34m\u001b[0m\u001b[0;34m\u001b[0m\u001b[0m\n",
      "\u001b[0;32m~/anaconda3/lib/python3.7/site-packages/sklearn/metrics/pairwise.py\u001b[0m in \u001b[0;36mcosine_similarity\u001b[0;34m(X, Y, dense_output)\u001b[0m\n\u001b[1;32m    894\u001b[0m     \u001b[0;31m# to avoid recursive import\u001b[0m\u001b[0;34m\u001b[0m\u001b[0;34m\u001b[0m\u001b[0;34m\u001b[0m\u001b[0m\n\u001b[1;32m    895\u001b[0m \u001b[0;34m\u001b[0m\u001b[0m\n\u001b[0;32m--> 896\u001b[0;31m     \u001b[0mX\u001b[0m\u001b[0;34m,\u001b[0m \u001b[0mY\u001b[0m \u001b[0;34m=\u001b[0m \u001b[0mcheck_pairwise_arrays\u001b[0m\u001b[0;34m(\u001b[0m\u001b[0mX\u001b[0m\u001b[0;34m,\u001b[0m \u001b[0mY\u001b[0m\u001b[0;34m)\u001b[0m\u001b[0;34m\u001b[0m\u001b[0;34m\u001b[0m\u001b[0m\n\u001b[0m\u001b[1;32m    897\u001b[0m \u001b[0;34m\u001b[0m\u001b[0m\n\u001b[1;32m    898\u001b[0m     \u001b[0mX_normalized\u001b[0m \u001b[0;34m=\u001b[0m \u001b[0mnormalize\u001b[0m\u001b[0;34m(\u001b[0m\u001b[0mX\u001b[0m\u001b[0;34m,\u001b[0m \u001b[0mcopy\u001b[0m\u001b[0;34m=\u001b[0m\u001b[0;32mTrue\u001b[0m\u001b[0;34m)\u001b[0m\u001b[0;34m\u001b[0m\u001b[0;34m\u001b[0m\u001b[0m\n",
      "\u001b[0;32m~/anaconda3/lib/python3.7/site-packages/sklearn/metrics/pairwise.py\u001b[0m in \u001b[0;36mcheck_pairwise_arrays\u001b[0;34m(X, Y, precomputed, dtype)\u001b[0m\n\u001b[1;32m    106\u001b[0m     \u001b[0;32mif\u001b[0m \u001b[0mY\u001b[0m \u001b[0;32mis\u001b[0m \u001b[0mX\u001b[0m \u001b[0;32mor\u001b[0m \u001b[0mY\u001b[0m \u001b[0;32mis\u001b[0m \u001b[0;32mNone\u001b[0m\u001b[0;34m:\u001b[0m\u001b[0;34m\u001b[0m\u001b[0;34m\u001b[0m\u001b[0m\n\u001b[1;32m    107\u001b[0m         X = Y = check_array(X, accept_sparse='csr', dtype=dtype,\n\u001b[0;32m--> 108\u001b[0;31m                             warn_on_dtype=warn_on_dtype, estimator=estimator)\n\u001b[0m\u001b[1;32m    109\u001b[0m     \u001b[0;32melse\u001b[0m\u001b[0;34m:\u001b[0m\u001b[0;34m\u001b[0m\u001b[0;34m\u001b[0m\u001b[0m\n\u001b[1;32m    110\u001b[0m         X = check_array(X, accept_sparse='csr', dtype=dtype,\n",
      "\u001b[0;32m~/anaconda3/lib/python3.7/site-packages/sklearn/utils/validation.py\u001b[0m in \u001b[0;36mcheck_array\u001b[0;34m(array, accept_sparse, accept_large_sparse, dtype, order, copy, force_all_finite, ensure_2d, allow_nd, ensure_min_samples, ensure_min_features, warn_on_dtype, estimator)\u001b[0m\n\u001b[1;32m    543\u001b[0m                     \u001b[0;34m\"Reshape your data either using array.reshape(-1, 1) if \"\u001b[0m\u001b[0;34m\u001b[0m\u001b[0;34m\u001b[0m\u001b[0m\n\u001b[1;32m    544\u001b[0m                     \u001b[0;34m\"your data has a single feature or array.reshape(1, -1) \"\u001b[0m\u001b[0;34m\u001b[0m\u001b[0;34m\u001b[0m\u001b[0m\n\u001b[0;32m--> 545\u001b[0;31m                     \"if it contains a single sample.\".format(array))\n\u001b[0m\u001b[1;32m    546\u001b[0m             \u001b[0;31m# If input is 1D raise error\u001b[0m\u001b[0;34m\u001b[0m\u001b[0;34m\u001b[0m\u001b[0;34m\u001b[0m\u001b[0m\n\u001b[1;32m    547\u001b[0m             \u001b[0;32mif\u001b[0m \u001b[0marray\u001b[0m\u001b[0;34m.\u001b[0m\u001b[0mndim\u001b[0m \u001b[0;34m==\u001b[0m \u001b[0;36m1\u001b[0m\u001b[0;34m:\u001b[0m\u001b[0;34m\u001b[0m\u001b[0;34m\u001b[0m\u001b[0m\n",
      "\u001b[0;31mValueError\u001b[0m: Expected 2D array, got scalar array instead:\narray=4.2499322041784255.\nReshape your data either using array.reshape(-1, 1) if your data has a single feature or array.reshape(1, -1) if it contains a single sample."
     ]
    }
   ],
   "source": [
    "user_all_rmse = User_User_CF(reviews)\n",
    "print(user_all_rmse)"
   ]
  },
  {
   "cell_type": "markdown",
   "metadata": {},
   "source": [
    "Это, безусловно, улучшение ошибки прогноза по сравнению с простым использованием средних оценок в качестве приблизительных для неизвестных оценок клиентов!\n",
    "\n",
    "Мы могли бы улучшить время выполнения нашего алгоритма, если сократим количество клиентов, которых мы используем для выработки рекомендаций. Если клиент отличается от нашего заинтересованного клиента, то включение его в наши вычисления может не повлиять на точность прогноза, но уменьшить количество вычислений, которые мы должны сделать. Следующая функция выполняет совместную фильтрацию пользователей и пользователей так же, как и выше, но на этот раз только самые популярные $ N $ наиболее похожие клиенты прогнозируют отсутствующий рейтинг интересующего клиента:"
   ]
  },
  {
   "cell_type": "code",
   "execution_count": 20,
   "metadata": {},
   "outputs": [],
   "source": [
    "def User_User_CF_TopN(reviews, N):\n",
    "    \"\"\"\n",
    "    Obtains the RMSE error in the user-user collaborative \n",
    "    filtering algorithms using the top N most similar users.\n",
    "    \n",
    "    :param: reviews (numpy.ndarray) : The dense user-item matrix.\n",
    "    :param: N (int) : The number of the most similar users.\n",
    "    \n",
    "    :returns: RMSE of predictions\n",
    "    :rvalue: float\n",
    "    \"\"\"\n",
    "    \n",
    "    # Get the user-user similarity matrix\n",
    "    user_user_similarity = cosine_similarity(reviews)\n",
    " \n",
    "    sqdiffs = 0\n",
    "    num_preds = 0\n",
    "\n",
    "    # to protect against divide by zero issues\n",
    "    eps = 1e-6\n",
    "\n",
    "    cnt_no_sims = 0\n",
    "    # loop over the users\n",
    "    for user_i, u in enumerate(reviews):\n",
    "        \n",
    "        # products user HAS rated\n",
    "        i_rated = np.where(u>0)[0]\n",
    "    \n",
    "        # Get the average rating for this user\n",
    "        user_avg = i_rated.mean()\n",
    "        \n",
    "        # loop over all the products that each user reviewed\n",
    "        # Note: these are all the non-zero entries in the row\n",
    "        for i_product in i_rated:\n",
    "        \n",
    "            # Get all the users (indices) that\n",
    "            # have also reviewed this product.\n",
    "            # Note: This also includes the user of interest!\n",
    "            i_has_rated = np.where(reviews[:, i_product]>0)[0]\n",
    "        \n",
    "            # remove the user (indices) of interest \n",
    "            # from this column\n",
    "            i_remove = np.argmin(abs(i_has_rated - user_i))\n",
    "            i_others_have_rated = np.delete(i_has_rated, i_remove)\n",
    "        \n",
    "            # Get the ratings for product by the similar users,\n",
    "            ratings = reviews[i_others_have_rated, \n",
    "                              i_product]\n",
    "                    \n",
    "            ratings -= user_avg\n",
    "               \n",
    "            # get the cosine similarity between the users\n",
    "            # and other users.\n",
    "            sims = user_user_similarity[user_i,\n",
    "                                        i_others_have_rated]\n",
    "            \n",
    "            #choose top N most similar users\n",
    "            most_similar_users = sims[np.argsort(sims*-1)][:N]\n",
    "            most_similar_ratings = ratings[np.argsort(sims*-1)][:N]\n",
    "            \n",
    "            # denominator of user_i's produdct prediction\n",
    "            norm = np.sum(most_similar_users)\n",
    "            if norm==0:\n",
    "                cnt_no_sims += 1\n",
    "                norm = eps\n",
    "            \n",
    "            # prediction of user u on product i: p_{u,i}\n",
    "            predicted_rating = user_avg + np.sum(np.multiply(\n",
    "                                            most_similar_ratings.T,\n",
    "                                            most_similar_users))/norm\n",
    "            \n",
    "            # actual rating by user u on product i\n",
    "            actual_rating = reviews[user_i, i_product]\n",
    "        \n",
    "        # get the L2 difference in predicted and actual\n",
    "        # rating for the user\n",
    "        sqdiffs += pow(predicted_rating - actual_rating, 2.0)\n",
    "        num_preds+=1\n",
    "    \n",
    "    # get the average of all the predictions\n",
    "    rmse_cossim = np.sqrt(sqdiffs/num_preds)\n",
    "    return rmse_cossim"
   ]
  },
  {
   "cell_type": "markdown",
   "metadata": {},
   "source": [
    "Мы можем просмотреть несколько различных вариантов выбора для $ N $ (количество наиболее похожих настроек) и посмотреть, как это число влияет на ошибку в нашем алгоритме коллаборативной фильтрации пользователь-пользователь:"
   ]
  },
  {
   "cell_type": "code",
   "execution_count": 21,
   "metadata": {},
   "outputs": [
    {
     "ename": "NameError",
     "evalue": "name 'ratings_matrix' is not defined",
     "output_type": "error",
     "traceback": [
      "\u001b[0;31m---------------------------------------------------------------------------\u001b[0m",
      "\u001b[0;31mNameError\u001b[0m                                 Traceback (most recent call last)",
      "\u001b[0;32m<ipython-input-21-28367d418e1f>\u001b[0m in \u001b[0;36m<module>\u001b[0;34m\u001b[0m\n\u001b[1;32m      1\u001b[0m \u001b[0mN_users\u001b[0m \u001b[0;34m=\u001b[0m \u001b[0;34m[\u001b[0m\u001b[0;36m1\u001b[0m\u001b[0;34m,\u001b[0m\u001b[0;36m2\u001b[0m\u001b[0;34m,\u001b[0m\u001b[0;36m3\u001b[0m\u001b[0;34m,\u001b[0m\u001b[0;36m4\u001b[0m\u001b[0;34m,\u001b[0m\u001b[0;36m5\u001b[0m\u001b[0;34m,\u001b[0m\u001b[0;36m10\u001b[0m\u001b[0;34m,\u001b[0m\u001b[0;36m25\u001b[0m\u001b[0;34m,\u001b[0m\u001b[0;36m50\u001b[0m\u001b[0;34m]\u001b[0m\u001b[0;34m\u001b[0m\u001b[0;34m\u001b[0m\u001b[0m\n\u001b[0;32m----> 2\u001b[0;31m \u001b[0mtop_N\u001b[0m   \u001b[0;34m=\u001b[0m \u001b[0;34m[\u001b[0m\u001b[0mUser_User_CF_TopN\u001b[0m\u001b[0;34m(\u001b[0m\u001b[0mratings_matrix\u001b[0m\u001b[0;34m,\u001b[0m \u001b[0mi\u001b[0m\u001b[0;34m)\u001b[0m \u001b[0;32mfor\u001b[0m \u001b[0mi\u001b[0m \u001b[0;32min\u001b[0m \u001b[0mN_users\u001b[0m\u001b[0;34m]\u001b[0m\u001b[0;34m\u001b[0m\u001b[0;34m\u001b[0m\u001b[0m\n\u001b[0m",
      "\u001b[0;32m<ipython-input-21-28367d418e1f>\u001b[0m in \u001b[0;36m<listcomp>\u001b[0;34m(.0)\u001b[0m\n\u001b[1;32m      1\u001b[0m \u001b[0mN_users\u001b[0m \u001b[0;34m=\u001b[0m \u001b[0;34m[\u001b[0m\u001b[0;36m1\u001b[0m\u001b[0;34m,\u001b[0m\u001b[0;36m2\u001b[0m\u001b[0;34m,\u001b[0m\u001b[0;36m3\u001b[0m\u001b[0;34m,\u001b[0m\u001b[0;36m4\u001b[0m\u001b[0;34m,\u001b[0m\u001b[0;36m5\u001b[0m\u001b[0;34m,\u001b[0m\u001b[0;36m10\u001b[0m\u001b[0;34m,\u001b[0m\u001b[0;36m25\u001b[0m\u001b[0;34m,\u001b[0m\u001b[0;36m50\u001b[0m\u001b[0;34m]\u001b[0m\u001b[0;34m\u001b[0m\u001b[0;34m\u001b[0m\u001b[0m\n\u001b[0;32m----> 2\u001b[0;31m \u001b[0mtop_N\u001b[0m   \u001b[0;34m=\u001b[0m \u001b[0;34m[\u001b[0m\u001b[0mUser_User_CF_TopN\u001b[0m\u001b[0;34m(\u001b[0m\u001b[0mratings_matrix\u001b[0m\u001b[0;34m,\u001b[0m \u001b[0mi\u001b[0m\u001b[0;34m)\u001b[0m \u001b[0;32mfor\u001b[0m \u001b[0mi\u001b[0m \u001b[0;32min\u001b[0m \u001b[0mN_users\u001b[0m\u001b[0;34m]\u001b[0m\u001b[0;34m\u001b[0m\u001b[0;34m\u001b[0m\u001b[0m\n\u001b[0m",
      "\u001b[0;31mNameError\u001b[0m: name 'ratings_matrix' is not defined"
     ]
    }
   ],
   "source": [
    "N_users = [1,2,3,4,5,10,25,50]\n",
    "top_N   = [User_User_CF_TopN(ratings_matrix, i) for i in N_users]"
   ]
  },
  {
   "cell_type": "markdown",
   "metadata": {},
   "source": [
    "Теперь мы можем сравнить RMSE в различных методах рекомендации:"
   ]
  },
  {
   "cell_type": "code",
   "execution_count": 24,
   "metadata": {},
   "outputs": [
    {
     "ename": "NameError",
     "evalue": "name 'top_N' is not defined",
     "output_type": "error",
     "traceback": [
      "\u001b[0;31m---------------------------------------------------------------------------\u001b[0m",
      "\u001b[0;31mNameError\u001b[0m                                 Traceback (most recent call last)",
      "\u001b[0;32m<ipython-input-24-d8e828894e6c>\u001b[0m in \u001b[0;36m<module>\u001b[0;34m\u001b[0m\n\u001b[1;32m      6\u001b[0m \u001b[0;34m\u001b[0m\u001b[0m\n\u001b[1;32m      7\u001b[0m \u001b[0mplt\u001b[0m\u001b[0;34m.\u001b[0m\u001b[0mfigure\u001b[0m\u001b[0;34m(\u001b[0m\u001b[0mfigsize\u001b[0m\u001b[0;34m=\u001b[0m\u001b[0;34m(\u001b[0m\u001b[0;36m8\u001b[0m\u001b[0;34m,\u001b[0m\u001b[0;36m5\u001b[0m\u001b[0;34m)\u001b[0m\u001b[0;34m)\u001b[0m\u001b[0;34m\u001b[0m\u001b[0;34m\u001b[0m\u001b[0m\n\u001b[0;32m----> 8\u001b[0;31m \u001b[0mplt\u001b[0m\u001b[0;34m.\u001b[0m\u001b[0mplot\u001b[0m\u001b[0;34m(\u001b[0m\u001b[0mN_users\u001b[0m\u001b[0;34m,\u001b[0m \u001b[0mtop_N\u001b[0m\u001b[0;34m,\u001b[0m    \u001b[0;34m'b'\u001b[0m\u001b[0;34m,\u001b[0m \u001b[0mlabel\u001b[0m \u001b[0;34m=\u001b[0m \u001b[0;34m'User-User CF, Top N Users'\u001b[0m\u001b[0;34m)\u001b[0m\u001b[0;34m\u001b[0m\u001b[0;34m\u001b[0m\u001b[0m\n\u001b[0m\u001b[1;32m      9\u001b[0m \u001b[0mplt\u001b[0m\u001b[0;34m.\u001b[0m\u001b[0mplot\u001b[0m\u001b[0;34m(\u001b[0m\u001b[0mN_users\u001b[0m\u001b[0;34m,\u001b[0m \u001b[0mmean_all\u001b[0m\u001b[0;34m,\u001b[0m \u001b[0;34m'k'\u001b[0m\u001b[0;34m,\u001b[0m \u001b[0mlabel\u001b[0m \u001b[0;34m=\u001b[0m \u001b[0;34m'Mean Rating Of All Users'\u001b[0m\u001b[0;34m)\u001b[0m\u001b[0;34m\u001b[0m\u001b[0;34m\u001b[0m\u001b[0m\n\u001b[1;32m     10\u001b[0m \u001b[0mplt\u001b[0m\u001b[0;34m.\u001b[0m\u001b[0mxlabel\u001b[0m\u001b[0;34m(\u001b[0m\u001b[0;34m'N'\u001b[0m\u001b[0;34m)\u001b[0m\u001b[0;34m\u001b[0m\u001b[0;34m\u001b[0m\u001b[0m\n",
      "\u001b[0;31mNameError\u001b[0m: name 'top_N' is not defined"
     ]
    },
    {
     "data": {
      "text/plain": [
       "<Figure size 576x360 with 0 Axes>"
      ]
     },
     "metadata": {},
     "output_type": "display_data"
    }
   ],
   "source": [
    "# make constant vectors\n",
    "user_all = []\n",
    "mean_all = []\n",
    "for i in range(len(N_users)):\n",
    "    user_all.append(user_all_rmse)\n",
    "    mean_all.append(base_rmse)\n",
    "\n",
    "plt.figure(figsize=(8,5))\n",
    "plt.plot(N_users, top_N,    'b', label = 'User-User CF, Top N Users')\n",
    "plt.plot(N_users, user_all, 'r', label = 'User-User CF, All Users')\n",
    "plt.plot(N_users, mean_all, 'k', label = 'Mean Rating Of All Users')\n",
    "plt.xlabel('N')\n",
    "plt.ylabel('RMSE Error')\n",
    "plt.legend()\n",
    "plt.title('RMSE Error In Recommender Predictions')"
   ]
  },
  {
   "cell_type": "markdown",
   "metadata": {},
   "source": [
    "Мы видим, что после примерно 25 пользователей не наблюдается значительного улучшения прогнозирующей способности совместной фильтрации.\n",
    "\n",
    "--------\n",
    "## Next Steps... <a class=\"anchor\" id=\"fourth-bullet\"></a>\n",
    "------\n",
    "\n",
    "Совместная фильтрация «пользователь-пользователь», в то время как определенное улучшение по сравнению с использованием среднего рейтинга в качестве предиктора имеет некоторые серьезные ограничения. Во-первых, он плохо масштабируется, так как число пользователей растет. Это связано с тем, что поиск похожих пользователей займет больше времени по мере роста списка пользователей. Другой метод, который лучше масштабируется при увеличении пользовательской базы, - это совместная фильтрация элемент-элемент, которая невероятно похожа на совместную фильтрацию пользователь-пользователь. Еще лучшим методом является использование матричной факторизации в основанной на модели совместной фильтрации. Я скоро обновлю этот пост и подробно расскажу об использовании другого метода.\n"
   ]
  },
  {
   "cell_type": "code",
   "execution_count": null,
   "metadata": {},
   "outputs": [],
   "source": []
  }
 ],
 "metadata": {
  "anaconda-cloud": {},
  "kernelspec": {
   "display_name": "Python 3",
   "language": "python",
   "name": "python3"
  },
  "language_info": {
   "codemirror_mode": {
    "name": "ipython",
    "version": 3
   },
   "file_extension": ".py",
   "mimetype": "text/x-python",
   "name": "python",
   "nbconvert_exporter": "python",
   "pygments_lexer": "ipython3",
   "version": "3.7.3"
  }
 },
 "nbformat": 4,
 "nbformat_minor": 1
}
